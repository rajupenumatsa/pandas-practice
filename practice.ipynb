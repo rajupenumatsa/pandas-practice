{
 "cells": [
  {
   "cell_type": "code",
   "execution_count": 19,
   "metadata": {},
   "outputs": [
    {
     "name": "stdout",
     "output_type": "stream",
     "text": [
      "Mininum age: 2\n",
      "Maximum Age: 35\n",
      "Mean Age: 17.0\n",
      "Standard Deviation: 17.4928556845359\n",
      "Boy with 2 Yrs age: 2    Vinisha\n",
      "3      Yuvan\n",
      "Name: Name, dtype: object\n"
     ]
    }
   ],
   "source": [
    "import pandas as pd\n",
    "df=pd.read_csv('people.csv')\n",
    "\n",
    "#Display min of Age\n",
    "mAge= df['Age'].min()\n",
    "print(f\"Mininum age: {mAge}\")\n",
    "\n",
    "#Display max Age\n",
    "mxAge=df['Age'].max()\n",
    "print(f\"Maximum Age: {mxAge}\")\n",
    "\n",
    "#Display mean Age\n",
    "mnAge=df['Age'].mean()\n",
    "print(f\"Mean Age: {mnAge}\")\n",
    "\n",
    "#Display stadard deviation of Age\n",
    "stdAge=df['Age'].std()\n",
    "print(f\"Standard Deviation: {stdAge}\")\n",
    "\n",
    "#Display the person name has age as 2 Yrs\n",
    "baby=df['Name'][df['Age']==2]\n",
    "\n",
    "print(f\"Boy with 2 Yrs age: {baby}\")"
   ]
  },
  {
   "cell_type": "code",
   "execution_count": null,
   "metadata": {},
   "outputs": [],
   "source": []
  }
 ],
 "metadata": {
  "kernelspec": {
   "display_name": "Python 3",
   "language": "python",
   "name": "python3"
  },
  "language_info": {
   "codemirror_mode": {
    "name": "ipython",
    "version": 3
   },
   "file_extension": ".py",
   "mimetype": "text/x-python",
   "name": "python",
   "nbconvert_exporter": "python",
   "pygments_lexer": "ipython3",
   "version": "3.7.3"
  }
 },
 "nbformat": 4,
 "nbformat_minor": 4
}
